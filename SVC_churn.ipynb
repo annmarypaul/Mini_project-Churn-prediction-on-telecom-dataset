{
 "cells": [
  {
   "cell_type": "code",
   "execution_count": 2,
   "metadata": {},
   "outputs": [],
   "source": [
    "from sklearn.metrics import accuracy_score\n",
    "from sklearn.metrics import roc_auc_score\n",
    "from sklearn.metrics import precision_recall_curve\n",
    "from sklearn.metrics import f1_score\n",
    "import matplotlib.pyplot as plt\n",
    "from sklearn import svm\n",
    "import pandas as pd\n"
   ]
  },
  {
   "cell_type": "code",
   "execution_count": 3,
   "metadata": {},
   "outputs": [],
   "source": [
    "data = pd.read_csv(\"./telecom.csv\")"
   ]
  },
  {
   "cell_type": "code",
   "execution_count": 4,
   "metadata": {},
   "outputs": [
    {
     "data": {
      "text/html": [
       "<div>\n",
       "<style scoped>\n",
       "    .dataframe tbody tr th:only-of-type {\n",
       "        vertical-align: middle;\n",
       "    }\n",
       "\n",
       "    .dataframe tbody tr th {\n",
       "        vertical-align: top;\n",
       "    }\n",
       "\n",
       "    .dataframe thead th {\n",
       "        text-align: right;\n",
       "    }\n",
       "</style>\n",
       "<table border=\"1\" class=\"dataframe\">\n",
       "  <thead>\n",
       "    <tr style=\"text-align: right;\">\n",
       "      <th></th>\n",
       "      <th>state</th>\n",
       "      <th>account length</th>\n",
       "      <th>area code</th>\n",
       "      <th>phone number</th>\n",
       "      <th>internationalplan</th>\n",
       "      <th>voicemailplan</th>\n",
       "      <th>number vmail messages</th>\n",
       "      <th>totaldayminutes</th>\n",
       "      <th>totaldaycalls</th>\n",
       "      <th>totaldaycharge</th>\n",
       "      <th>...</th>\n",
       "      <th>totalevecalls</th>\n",
       "      <th>totalevecharge</th>\n",
       "      <th>totalnightminutes</th>\n",
       "      <th>totalnightcalls</th>\n",
       "      <th>totalnightcharge</th>\n",
       "      <th>totalintlminutes</th>\n",
       "      <th>totalintlcalls</th>\n",
       "      <th>totalintlcharge</th>\n",
       "      <th>customerservicecalls</th>\n",
       "      <th>churn</th>\n",
       "    </tr>\n",
       "  </thead>\n",
       "  <tbody>\n",
       "    <tr>\n",
       "      <th>0</th>\n",
       "      <td>KS</td>\n",
       "      <td>128</td>\n",
       "      <td>415</td>\n",
       "      <td>382-4657</td>\n",
       "      <td>no</td>\n",
       "      <td>yes</td>\n",
       "      <td>25</td>\n",
       "      <td>265.1</td>\n",
       "      <td>110</td>\n",
       "      <td>45.07</td>\n",
       "      <td>...</td>\n",
       "      <td>99</td>\n",
       "      <td>16.78</td>\n",
       "      <td>244.7</td>\n",
       "      <td>91</td>\n",
       "      <td>11.01</td>\n",
       "      <td>10.0</td>\n",
       "      <td>3</td>\n",
       "      <td>2.70</td>\n",
       "      <td>1</td>\n",
       "      <td>False</td>\n",
       "    </tr>\n",
       "    <tr>\n",
       "      <th>1</th>\n",
       "      <td>OH</td>\n",
       "      <td>107</td>\n",
       "      <td>415</td>\n",
       "      <td>371-7191</td>\n",
       "      <td>no</td>\n",
       "      <td>yes</td>\n",
       "      <td>26</td>\n",
       "      <td>161.6</td>\n",
       "      <td>123</td>\n",
       "      <td>27.47</td>\n",
       "      <td>...</td>\n",
       "      <td>103</td>\n",
       "      <td>16.62</td>\n",
       "      <td>254.4</td>\n",
       "      <td>103</td>\n",
       "      <td>11.45</td>\n",
       "      <td>13.7</td>\n",
       "      <td>3</td>\n",
       "      <td>3.70</td>\n",
       "      <td>1</td>\n",
       "      <td>False</td>\n",
       "    </tr>\n",
       "    <tr>\n",
       "      <th>2</th>\n",
       "      <td>NJ</td>\n",
       "      <td>137</td>\n",
       "      <td>415</td>\n",
       "      <td>358-1921</td>\n",
       "      <td>no</td>\n",
       "      <td>no</td>\n",
       "      <td>0</td>\n",
       "      <td>243.4</td>\n",
       "      <td>114</td>\n",
       "      <td>41.38</td>\n",
       "      <td>...</td>\n",
       "      <td>110</td>\n",
       "      <td>10.30</td>\n",
       "      <td>162.6</td>\n",
       "      <td>104</td>\n",
       "      <td>7.32</td>\n",
       "      <td>12.2</td>\n",
       "      <td>5</td>\n",
       "      <td>3.29</td>\n",
       "      <td>0</td>\n",
       "      <td>False</td>\n",
       "    </tr>\n",
       "    <tr>\n",
       "      <th>3</th>\n",
       "      <td>OH</td>\n",
       "      <td>84</td>\n",
       "      <td>408</td>\n",
       "      <td>375-9999</td>\n",
       "      <td>yes</td>\n",
       "      <td>no</td>\n",
       "      <td>0</td>\n",
       "      <td>299.4</td>\n",
       "      <td>71</td>\n",
       "      <td>50.90</td>\n",
       "      <td>...</td>\n",
       "      <td>88</td>\n",
       "      <td>5.26</td>\n",
       "      <td>196.9</td>\n",
       "      <td>89</td>\n",
       "      <td>8.86</td>\n",
       "      <td>6.6</td>\n",
       "      <td>7</td>\n",
       "      <td>1.78</td>\n",
       "      <td>2</td>\n",
       "      <td>False</td>\n",
       "    </tr>\n",
       "    <tr>\n",
       "      <th>4</th>\n",
       "      <td>OK</td>\n",
       "      <td>75</td>\n",
       "      <td>415</td>\n",
       "      <td>330-6626</td>\n",
       "      <td>yes</td>\n",
       "      <td>no</td>\n",
       "      <td>0</td>\n",
       "      <td>166.7</td>\n",
       "      <td>113</td>\n",
       "      <td>28.34</td>\n",
       "      <td>...</td>\n",
       "      <td>122</td>\n",
       "      <td>12.61</td>\n",
       "      <td>186.9</td>\n",
       "      <td>121</td>\n",
       "      <td>8.41</td>\n",
       "      <td>10.1</td>\n",
       "      <td>3</td>\n",
       "      <td>2.73</td>\n",
       "      <td>3</td>\n",
       "      <td>False</td>\n",
       "    </tr>\n",
       "    <tr>\n",
       "      <th>...</th>\n",
       "      <td>...</td>\n",
       "      <td>...</td>\n",
       "      <td>...</td>\n",
       "      <td>...</td>\n",
       "      <td>...</td>\n",
       "      <td>...</td>\n",
       "      <td>...</td>\n",
       "      <td>...</td>\n",
       "      <td>...</td>\n",
       "      <td>...</td>\n",
       "      <td>...</td>\n",
       "      <td>...</td>\n",
       "      <td>...</td>\n",
       "      <td>...</td>\n",
       "      <td>...</td>\n",
       "      <td>...</td>\n",
       "      <td>...</td>\n",
       "      <td>...</td>\n",
       "      <td>...</td>\n",
       "      <td>...</td>\n",
       "      <td>...</td>\n",
       "    </tr>\n",
       "    <tr>\n",
       "      <th>3328</th>\n",
       "      <td>AZ</td>\n",
       "      <td>192</td>\n",
       "      <td>415</td>\n",
       "      <td>414-4276</td>\n",
       "      <td>no</td>\n",
       "      <td>yes</td>\n",
       "      <td>36</td>\n",
       "      <td>156.2</td>\n",
       "      <td>77</td>\n",
       "      <td>26.55</td>\n",
       "      <td>...</td>\n",
       "      <td>126</td>\n",
       "      <td>18.32</td>\n",
       "      <td>279.1</td>\n",
       "      <td>83</td>\n",
       "      <td>12.56</td>\n",
       "      <td>9.9</td>\n",
       "      <td>6</td>\n",
       "      <td>2.67</td>\n",
       "      <td>2</td>\n",
       "      <td>False</td>\n",
       "    </tr>\n",
       "    <tr>\n",
       "      <th>3329</th>\n",
       "      <td>WV</td>\n",
       "      <td>68</td>\n",
       "      <td>415</td>\n",
       "      <td>370-3271</td>\n",
       "      <td>no</td>\n",
       "      <td>no</td>\n",
       "      <td>0</td>\n",
       "      <td>231.1</td>\n",
       "      <td>57</td>\n",
       "      <td>39.29</td>\n",
       "      <td>...</td>\n",
       "      <td>55</td>\n",
       "      <td>13.04</td>\n",
       "      <td>191.3</td>\n",
       "      <td>123</td>\n",
       "      <td>8.61</td>\n",
       "      <td>9.6</td>\n",
       "      <td>4</td>\n",
       "      <td>2.59</td>\n",
       "      <td>3</td>\n",
       "      <td>False</td>\n",
       "    </tr>\n",
       "    <tr>\n",
       "      <th>3330</th>\n",
       "      <td>RI</td>\n",
       "      <td>28</td>\n",
       "      <td>510</td>\n",
       "      <td>328-8230</td>\n",
       "      <td>no</td>\n",
       "      <td>no</td>\n",
       "      <td>0</td>\n",
       "      <td>180.8</td>\n",
       "      <td>109</td>\n",
       "      <td>30.74</td>\n",
       "      <td>...</td>\n",
       "      <td>58</td>\n",
       "      <td>24.55</td>\n",
       "      <td>191.9</td>\n",
       "      <td>91</td>\n",
       "      <td>8.64</td>\n",
       "      <td>14.1</td>\n",
       "      <td>6</td>\n",
       "      <td>3.81</td>\n",
       "      <td>2</td>\n",
       "      <td>False</td>\n",
       "    </tr>\n",
       "    <tr>\n",
       "      <th>3331</th>\n",
       "      <td>CT</td>\n",
       "      <td>184</td>\n",
       "      <td>510</td>\n",
       "      <td>364-6381</td>\n",
       "      <td>yes</td>\n",
       "      <td>no</td>\n",
       "      <td>0</td>\n",
       "      <td>213.8</td>\n",
       "      <td>105</td>\n",
       "      <td>36.35</td>\n",
       "      <td>...</td>\n",
       "      <td>84</td>\n",
       "      <td>13.57</td>\n",
       "      <td>139.2</td>\n",
       "      <td>137</td>\n",
       "      <td>6.26</td>\n",
       "      <td>5.0</td>\n",
       "      <td>10</td>\n",
       "      <td>1.35</td>\n",
       "      <td>2</td>\n",
       "      <td>False</td>\n",
       "    </tr>\n",
       "    <tr>\n",
       "      <th>3332</th>\n",
       "      <td>TN</td>\n",
       "      <td>74</td>\n",
       "      <td>415</td>\n",
       "      <td>400-4344</td>\n",
       "      <td>no</td>\n",
       "      <td>yes</td>\n",
       "      <td>25</td>\n",
       "      <td>234.4</td>\n",
       "      <td>113</td>\n",
       "      <td>39.85</td>\n",
       "      <td>...</td>\n",
       "      <td>82</td>\n",
       "      <td>22.60</td>\n",
       "      <td>241.4</td>\n",
       "      <td>77</td>\n",
       "      <td>10.86</td>\n",
       "      <td>13.7</td>\n",
       "      <td>4</td>\n",
       "      <td>3.70</td>\n",
       "      <td>0</td>\n",
       "      <td>False</td>\n",
       "    </tr>\n",
       "  </tbody>\n",
       "</table>\n",
       "<p>3333 rows × 21 columns</p>\n",
       "</div>"
      ],
      "text/plain": [
       "     state  account length  area code phone number internationalplan  \\\n",
       "0       KS             128        415     382-4657                no   \n",
       "1       OH             107        415     371-7191                no   \n",
       "2       NJ             137        415     358-1921                no   \n",
       "3       OH              84        408     375-9999               yes   \n",
       "4       OK              75        415     330-6626               yes   \n",
       "...    ...             ...        ...          ...               ...   \n",
       "3328    AZ             192        415     414-4276                no   \n",
       "3329    WV              68        415     370-3271                no   \n",
       "3330    RI              28        510     328-8230                no   \n",
       "3331    CT             184        510     364-6381               yes   \n",
       "3332    TN              74        415     400-4344                no   \n",
       "\n",
       "     voicemailplan  number vmail messages  totaldayminutes  totaldaycalls  \\\n",
       "0              yes                     25            265.1            110   \n",
       "1              yes                     26            161.6            123   \n",
       "2               no                      0            243.4            114   \n",
       "3               no                      0            299.4             71   \n",
       "4               no                      0            166.7            113   \n",
       "...            ...                    ...              ...            ...   \n",
       "3328           yes                     36            156.2             77   \n",
       "3329            no                      0            231.1             57   \n",
       "3330            no                      0            180.8            109   \n",
       "3331            no                      0            213.8            105   \n",
       "3332           yes                     25            234.4            113   \n",
       "\n",
       "      totaldaycharge  ...  totalevecalls  totalevecharge  totalnightminutes  \\\n",
       "0              45.07  ...             99           16.78              244.7   \n",
       "1              27.47  ...            103           16.62              254.4   \n",
       "2              41.38  ...            110           10.30              162.6   \n",
       "3              50.90  ...             88            5.26              196.9   \n",
       "4              28.34  ...            122           12.61              186.9   \n",
       "...              ...  ...            ...             ...                ...   \n",
       "3328           26.55  ...            126           18.32              279.1   \n",
       "3329           39.29  ...             55           13.04              191.3   \n",
       "3330           30.74  ...             58           24.55              191.9   \n",
       "3331           36.35  ...             84           13.57              139.2   \n",
       "3332           39.85  ...             82           22.60              241.4   \n",
       "\n",
       "      totalnightcalls  totalnightcharge  totalintlminutes  totalintlcalls  \\\n",
       "0                  91             11.01              10.0               3   \n",
       "1                 103             11.45              13.7               3   \n",
       "2                 104              7.32              12.2               5   \n",
       "3                  89              8.86               6.6               7   \n",
       "4                 121              8.41              10.1               3   \n",
       "...               ...               ...               ...             ...   \n",
       "3328               83             12.56               9.9               6   \n",
       "3329              123              8.61               9.6               4   \n",
       "3330               91              8.64              14.1               6   \n",
       "3331              137              6.26               5.0              10   \n",
       "3332               77             10.86              13.7               4   \n",
       "\n",
       "      totalintlcharge  customerservicecalls  churn  \n",
       "0                2.70                     1  False  \n",
       "1                3.70                     1  False  \n",
       "2                3.29                     0  False  \n",
       "3                1.78                     2  False  \n",
       "4                2.73                     3  False  \n",
       "...               ...                   ...    ...  \n",
       "3328             2.67                     2  False  \n",
       "3329             2.59                     3  False  \n",
       "3330             3.81                     2  False  \n",
       "3331             1.35                     2  False  \n",
       "3332             3.70                     0  False  \n",
       "\n",
       "[3333 rows x 21 columns]"
      ]
     },
     "execution_count": 4,
     "metadata": {},
     "output_type": "execute_result"
    }
   ],
   "source": [
    "data"
   ]
  },
  {
   "cell_type": "code",
   "execution_count": 5,
   "metadata": {},
   "outputs": [],
   "source": [
    "X = data.iloc[:,6:20].values\n",
    "Y=data.iloc[:,20].values"
   ]
  },
  {
   "cell_type": "code",
   "execution_count": 1,
   "metadata": {},
   "outputs": [
    {
     "ename": "NameError",
     "evalue": "name 'X' is not defined",
     "output_type": "error",
     "traceback": [
      "\u001b[1;31m---------------------------------------------------------------------------\u001b[0m",
      "\u001b[1;31mNameError\u001b[0m                                 Traceback (most recent call last)",
      "\u001b[1;32m<ipython-input-1-0fffafcbb765>\u001b[0m in \u001b[0;36m<module>\u001b[1;34m\u001b[0m\n\u001b[0;32m      1\u001b[0m \u001b[1;32mfrom\u001b[0m \u001b[0msklearn\u001b[0m\u001b[1;33m.\u001b[0m\u001b[0mmodel_selection\u001b[0m \u001b[1;32mimport\u001b[0m \u001b[0mtrain_test_split\u001b[0m\u001b[1;33m\u001b[0m\u001b[1;33m\u001b[0m\u001b[0m\n\u001b[1;32m----> 2\u001b[1;33m \u001b[0mX_train\u001b[0m\u001b[1;33m,\u001b[0m\u001b[0mX_test\u001b[0m\u001b[1;33m,\u001b[0m\u001b[0mY_train\u001b[0m\u001b[1;33m,\u001b[0m\u001b[0mY_test\u001b[0m\u001b[1;33m=\u001b[0m\u001b[0mtrain_test_split\u001b[0m\u001b[1;33m(\u001b[0m\u001b[0mX\u001b[0m\u001b[1;33m,\u001b[0m\u001b[0mY\u001b[0m\u001b[1;33m,\u001b[0m\u001b[0mtest_size\u001b[0m\u001b[1;33m=\u001b[0m\u001b[1;36m0.20\u001b[0m\u001b[1;33m,\u001b[0m\u001b[0mrandom_state\u001b[0m\u001b[1;33m=\u001b[0m\u001b[1;36m101\u001b[0m\u001b[1;33m)\u001b[0m\u001b[1;33m\u001b[0m\u001b[1;33m\u001b[0m\u001b[0m\n\u001b[0m",
      "\u001b[1;31mNameError\u001b[0m: name 'X' is not defined"
     ]
    }
   ],
   "source": [
    "from sklearn.model_selection import train_test_split\n",
    "X_train,X_test,Y_train,Y_test=train_test_split(X,Y,test_size=0.20,random_state=101)"
   ]
  },
  {
   "cell_type": "code",
   "execution_count": 5,
   "metadata": {},
   "outputs": [],
   "source": [
    "from sklearn.preprocessing import StandardScaler\n",
    "scaler = StandardScaler()\n",
    "scaler.fit(X_train)\n",
    "\n",
    "X_train = scaler.transform(X_train)\n",
    "X_test = scaler.transform(X_test)"
   ]
  },
  {
   "cell_type": "code",
   "execution_count": 41,
   "metadata": {},
   "outputs": [
    {
     "data": {
      "text/plain": [
       "SVC(C=1.0, cache_size=200, class_weight=None, coef0=0.0,\n",
       "    decision_function_shape='ovr', degree=3, gamma='auto_deprecated',\n",
       "    kernel='rbf', max_iter=-1, probability=True, random_state=None,\n",
       "    shrinking=True, tol=0.001, verbose=False)"
      ]
     },
     "execution_count": 41,
     "metadata": {},
     "output_type": "execute_result"
    }
   ],
   "source": [
    "clf = svm.SVC(probability=True)\n",
    "clf.fit(X_train,Y_train)"
   ]
  },
  {
   "cell_type": "code",
   "execution_count": 9,
   "metadata": {},
   "outputs": [
    {
     "data": {
      "text/plain": [
       "array([False, False, False, False, False, False, False, False, False,\n",
       "       False, False,  True, False, False, False, False, False, False,\n",
       "       False,  True, False, False, False, False, False, False,  True,\n",
       "       False, False, False, False, False, False,  True, False, False,\n",
       "       False, False, False, False, False, False, False, False, False,\n",
       "       False, False, False,  True, False, False, False, False, False,\n",
       "       False, False, False, False, False, False, False, False,  True,\n",
       "       False, False, False, False, False, False, False, False, False,\n",
       "       False, False, False, False,  True, False,  True, False, False,\n",
       "       False, False, False, False, False, False, False, False, False,\n",
       "       False, False, False, False, False, False, False, False, False,\n",
       "       False, False, False, False, False, False,  True, False, False,\n",
       "       False,  True, False, False, False, False, False, False, False,\n",
       "       False, False, False, False, False, False, False, False, False,\n",
       "       False, False, False, False, False, False, False, False, False,\n",
       "       False, False, False,  True, False, False, False, False, False,\n",
       "       False, False, False, False, False, False, False, False, False,\n",
       "       False, False, False, False, False, False, False,  True, False,\n",
       "       False, False, False, False, False, False, False, False, False,\n",
       "       False, False, False, False, False, False, False, False, False,\n",
       "       False, False, False, False, False, False, False, False, False,\n",
       "       False, False, False, False, False, False, False, False, False,\n",
       "       False, False, False, False, False, False, False, False,  True,\n",
       "        True, False, False, False, False, False, False, False, False,\n",
       "       False, False, False, False, False, False, False, False, False,\n",
       "       False, False, False, False,  True, False,  True, False, False,\n",
       "       False,  True, False, False, False, False, False, False, False,\n",
       "       False, False, False, False, False, False, False,  True, False,\n",
       "       False, False, False,  True, False, False, False, False, False,\n",
       "       False, False, False, False, False, False, False, False, False,\n",
       "       False, False, False, False, False, False, False, False, False,\n",
       "       False, False, False, False, False, False, False, False, False,\n",
       "       False, False, False,  True, False, False, False, False, False,\n",
       "       False,  True, False, False, False, False, False,  True, False,\n",
       "       False, False, False, False, False, False, False,  True, False,\n",
       "       False,  True, False, False, False, False, False, False, False,\n",
       "       False, False, False, False, False, False, False, False, False,\n",
       "       False, False, False, False, False, False, False, False, False,\n",
       "       False, False, False, False, False, False, False, False, False,\n",
       "       False, False, False, False, False, False, False, False, False,\n",
       "       False, False, False, False, False, False, False, False, False,\n",
       "       False, False, False, False, False, False, False, False, False,\n",
       "       False, False, False, False, False, False, False, False, False,\n",
       "        True, False, False, False, False, False, False, False, False,\n",
       "       False, False, False, False, False, False, False, False,  True,\n",
       "       False, False, False, False, False, False, False, False, False,\n",
       "       False, False, False, False, False, False, False, False, False,\n",
       "       False, False, False, False, False, False, False,  True, False,\n",
       "       False, False, False, False, False, False, False, False, False,\n",
       "       False, False, False, False, False,  True,  True, False, False,\n",
       "       False, False, False, False, False, False, False, False, False,\n",
       "       False, False, False, False, False,  True, False, False, False,\n",
       "       False, False, False, False, False, False, False, False, False,\n",
       "       False, False, False, False, False, False, False, False, False,\n",
       "       False, False, False, False, False, False, False, False, False,\n",
       "       False, False, False, False,  True, False, False, False, False,\n",
       "       False,  True, False, False, False, False, False,  True, False,\n",
       "       False, False, False, False, False, False, False, False, False,\n",
       "       False, False,  True,  True, False, False, False, False, False,\n",
       "       False, False,  True, False, False, False, False, False, False,\n",
       "       False, False, False, False, False, False, False, False, False,\n",
       "       False, False, False, False, False,  True, False, False, False,\n",
       "       False, False, False, False, False, False, False, False,  True,\n",
       "       False, False, False, False, False, False, False, False, False,\n",
       "        True, False, False, False, False, False, False, False,  True,\n",
       "       False, False, False, False, False, False, False, False, False,\n",
       "       False, False, False, False, False, False, False, False, False,\n",
       "       False, False, False, False, False, False, False, False, False,\n",
       "       False, False, False, False, False, False, False, False,  True,\n",
       "       False, False,  True, False, False, False, False, False,  True,\n",
       "       False,  True, False, False, False, False, False, False, False,\n",
       "       False, False, False, False, False, False, False, False, False,\n",
       "       False, False, False, False, False, False, False, False, False,\n",
       "       False, False, False, False, False, False, False, False, False,\n",
       "       False])"
      ]
     },
     "execution_count": 9,
     "metadata": {},
     "output_type": "execute_result"
    }
   ],
   "source": [
    "clf.predict(X_test)"
   ]
  },
  {
   "cell_type": "code",
   "execution_count": 11,
   "metadata": {},
   "outputs": [
    {
     "data": {
      "text/plain": [
       "array([[ 2.69898776, -0.58179662, -0.77107055, ...,  0.20176602,\n",
       "         1.34427026, -0.4282781 ],\n",
       "       [-0.58696273, -0.05858322,  0.73099299, ..., -0.6028835 ,\n",
       "        -0.33500494,  1.8401777 ],\n",
       "       [ 1.74971317, -0.67692633, -1.17162083, ..., -1.00520826,\n",
       "         0.63024773,  1.08402577],\n",
       "       ...,\n",
       "       [-0.58696273,  1.67387515,  0.3805115 , ...,  0.20176602,\n",
       "        -0.14988799,  0.32787383],\n",
       "       [-0.58696273, -1.32271071,  1.98271261, ..., -0.6028835 ,\n",
       "        -0.08377479,  1.8401777 ],\n",
       "       [-0.58696273,  0.66952494,  0.28037393, ..., -1.00520826,\n",
       "         2.37563614,  2.59632964]])"
      ]
     },
     "execution_count": 11,
     "metadata": {},
     "output_type": "execute_result"
    }
   ],
   "source": [
    "# get support vectors\n",
    "clf.support_vectors_"
   ]
  },
  {
   "cell_type": "code",
   "execution_count": 12,
   "metadata": {},
   "outputs": [
    {
     "data": {
      "text/plain": [
       "array([   0,    2,   10,   12,   15,   23,   40,   51,   55,   61,   62,\n",
       "         63,   64,   69,   92,  103,  106,  117,  139,  140,  141,  160,\n",
       "        171,  173,  174,  179,  196,  201,  206,  214,  221,  227,  228,\n",
       "        234,  242,  244,  251,  252,  254,  255,  258,  268,  271,  272,\n",
       "        275,  277,  279,  284,  288,  289,  303,  304,  309,  312,  320,\n",
       "        328,  342,  343,  345,  357,  363,  367,  376,  379,  384,  389,\n",
       "        399,  401,  404,  406,  407,  412,  418,  429,  444,  445,  448,\n",
       "        455,  469,  480,  491,  494,  495,  497,  498,  500,  503,  506,\n",
       "        507,  509,  511,  512,  513,  516,  517,  521,  522,  526,  531,\n",
       "        543,  553,  557,  583,  585,  592,  594,  597,  604,  606,  612,\n",
       "        613,  627,  631,  633,  640,  643,  656,  658,  665,  671,  672,\n",
       "        685,  698,  707,  709,  717,  719,  722,  727,  730,  746,  756,\n",
       "        761,  765,  767,  779,  784,  785,  787,  790,  795,  804,  805,\n",
       "        806,  807,  830,  831,  834,  835,  836,  842,  848,  852,  855,\n",
       "        856,  863,  866,  868,  872,  880,  881,  884,  887,  891,  911,\n",
       "        912,  916,  920,  926,  927,  935,  938,  940,  942,  949,  956,\n",
       "        958,  959,  979,  985,  992,  998, 1002, 1007, 1027, 1041, 1053,\n",
       "       1056, 1063, 1064, 1067, 1073, 1082, 1091, 1094, 1098, 1106, 1108,\n",
       "       1122, 1131, 1137, 1142, 1143, 1151, 1156, 1161, 1169, 1170, 1176,\n",
       "       1177, 1180, 1184, 1186, 1190, 1191, 1193, 1195, 1196, 1197, 1205,\n",
       "       1208, 1209, 1215, 1223, 1229, 1244, 1254, 1258, 1265, 1268, 1269,\n",
       "       1281, 1284, 1292, 1296, 1310, 1314, 1322, 1326, 1343, 1348, 1349,\n",
       "       1364, 1365, 1366, 1377, 1385, 1390, 1391, 1392, 1393, 1394, 1396,\n",
       "       1399, 1401, 1413, 1414, 1417, 1423, 1427, 1438, 1447, 1452, 1454,\n",
       "       1459, 1460, 1461, 1471, 1482, 1484, 1488, 1494, 1498, 1499, 1507,\n",
       "       1514, 1516, 1521, 1525, 1532, 1537, 1539, 1551, 1557, 1559, 1562,\n",
       "       1563, 1574, 1575, 1577, 1580, 1583, 1592, 1594, 1598, 1609, 1612,\n",
       "       1617, 1621, 1623, 1625, 1635, 1640, 1642, 1644, 1648, 1658, 1660,\n",
       "       1662, 1665, 1675, 1678, 1681, 1689, 1691, 1693, 1721, 1729, 1735,\n",
       "       1738, 1739, 1747, 1755, 1756, 1758, 1774, 1775, 1776, 1779, 1789,\n",
       "       1796, 1799, 1805, 1808, 1813, 1817, 1826, 1832, 1836, 1844, 1852,\n",
       "       1855, 1859, 1862, 1863, 1865, 1868, 1870, 1876, 1879, 1880, 1886,\n",
       "       1905, 1917, 1918, 1919, 1930, 1933, 1935, 1939, 1944, 1954, 1956,\n",
       "       1957, 1959, 1968, 1976, 1998, 2004, 2009, 2027, 2029, 2032, 2040,\n",
       "       2047, 2055, 2056, 2059, 2061, 2065, 2073, 2080, 2083, 2084, 2089,\n",
       "       2119, 2120, 2129, 2140, 2153, 2158, 2162, 2167, 2169, 2180, 2185,\n",
       "       2186, 2187, 2211, 2216, 2219, 2222, 2232, 2262, 2265, 2269, 2270,\n",
       "       2274, 2296, 2298, 2306, 2313, 2314, 2324, 2330, 2334, 2339, 2348,\n",
       "       2349, 2351, 2352, 2353, 2358, 2360, 2361, 2365, 2375, 2382, 2385,\n",
       "       2386, 2389, 2390, 2392, 2394, 2397, 2398, 2401, 2402, 2403, 2407,\n",
       "       2408, 2412, 2419, 2424, 2429, 2430, 2433, 2438, 2440, 2441, 2447,\n",
       "       2458, 2463, 2468, 2470, 2474, 2482, 2484, 2489, 2491, 2498, 2500,\n",
       "       2508, 2520, 2522, 2524, 2527, 2531, 2532, 2536, 2551, 2553, 2559,\n",
       "       2564, 2567, 2573, 2578, 2579, 2588, 2593, 2597, 2598, 2609, 2618,\n",
       "       2621, 2630, 2631, 2632, 2633, 2636, 2642, 2645, 2648, 2653, 2654,\n",
       "       2664,    1,   13,   18,   21,   26,   27,   35,   45,   47,   48,\n",
       "         53,   58,   59,   72,   74,   75,   81,   88,   89,   95,   99,\n",
       "        101,  109,  110,  124,  146,  161,  163,  164,  178,  181,  186,\n",
       "        189,  190,  200,  215,  229,  249,  250,  278,  282,  290,  291,\n",
       "        292,  294,  297,  301,  305,  336,  347,  348,  352,  358,  359,\n",
       "        361,  370,  373,  383,  386,  402,  414,  415,  430,  431,  433,\n",
       "        451,  452,  459,  464,  475,  482,  504,  532,  541,  547,  559,\n",
       "        566,  570,  575,  619,  620,  625,  634,  637,  638,  678,  686,\n",
       "        699,  728,  734,  740,  745,  747,  752,  769,  777,  778,  786,\n",
       "        794,  828,  838,  843,  847,  874,  885,  892,  896,  898,  921,\n",
       "        922,  928,  931,  937,  961,  962,  969,  972,  973,  975,  991,\n",
       "        993, 1003, 1005, 1021, 1045, 1051, 1055, 1068, 1072, 1076, 1078,\n",
       "       1083, 1085, 1092, 1105, 1107, 1118, 1120, 1127, 1130, 1135, 1139,\n",
       "       1144, 1147, 1149, 1152, 1153, 1160, 1164, 1188, 1194, 1213, 1217,\n",
       "       1220, 1226, 1228, 1233, 1235, 1236, 1238, 1245, 1249, 1260, 1266,\n",
       "       1285, 1289, 1304, 1315, 1328, 1335, 1337, 1342, 1346, 1359, 1384,\n",
       "       1409, 1421, 1458, 1464, 1469, 1480, 1481, 1485, 1489, 1501, 1504,\n",
       "       1518, 1527, 1530, 1533, 1545, 1546, 1554, 1564, 1567, 1568, 1573,\n",
       "       1579, 1599, 1614, 1627, 1630, 1636, 1646, 1663, 1683, 1685, 1687,\n",
       "       1688, 1698, 1705, 1713, 1725, 1733, 1740, 1743, 1745, 1746, 1749,\n",
       "       1752, 1757, 1761, 1766, 1770, 1773, 1786, 1787, 1800, 1806, 1810,\n",
       "       1814, 1829, 1837, 1854, 1860, 1874, 1891, 1893, 1904, 1913, 1916,\n",
       "       1928, 1932, 1937, 1949, 1950, 1958, 1964, 1969, 1974, 1981, 1982,\n",
       "       1987, 1992, 2002, 2012, 2014, 2015, 2017, 2020, 2049, 2088, 2098,\n",
       "       2110, 2116, 2118, 2122, 2127, 2141, 2150, 2152, 2156, 2157, 2163,\n",
       "       2164, 2179, 2184, 2191, 2193, 2198, 2200, 2209, 2215, 2230, 2231,\n",
       "       2237, 2242, 2246, 2247, 2257, 2259, 2260, 2271, 2273, 2285, 2286,\n",
       "       2291, 2292, 2294, 2299, 2309, 2310, 2312, 2323, 2336, 2337, 2338,\n",
       "       2340, 2359, 2362, 2363, 2367, 2371, 2378, 2404, 2431, 2475, 2476,\n",
       "       2480, 2492, 2504, 2511, 2526, 2529, 2534, 2537, 2542, 2545, 2554,\n",
       "       2556, 2561, 2563, 2570, 2574, 2575, 2587, 2591, 2605, 2612, 2614,\n",
       "       2615, 2617, 2634, 2635, 2644, 2646, 2659])"
      ]
     },
     "execution_count": 12,
     "metadata": {},
     "output_type": "execute_result"
    }
   ],
   "source": [
    "# get indices of support vectors\n",
    "clf.support_"
   ]
  },
  {
   "cell_type": "code",
   "execution_count": 13,
   "metadata": {},
   "outputs": [
    {
     "data": {
      "text/plain": [
       "array([496, 347])"
      ]
     },
     "execution_count": 13,
     "metadata": {},
     "output_type": "execute_result"
    }
   ],
   "source": [
    "# get number of support vectors for each class\n",
    "clf.n_support_"
   ]
  },
  {
   "cell_type": "code",
   "execution_count": 14,
   "metadata": {},
   "outputs": [],
   "source": [
    "predicted_test = clf.predict(X_test)"
   ]
  },
  {
   "cell_type": "code",
   "execution_count": 17,
   "metadata": {},
   "outputs": [],
   "source": [
    "accuracy_test = accuracy_score(Y_test,predicted_test)"
   ]
  },
  {
   "cell_type": "code",
   "execution_count": 18,
   "metadata": {},
   "outputs": [
    {
     "data": {
      "text/plain": [
       "0.9175412293853074"
      ]
     },
     "execution_count": 18,
     "metadata": {},
     "output_type": "execute_result"
    }
   ],
   "source": [
    "accuracy_test"
   ]
  },
  {
   "cell_type": "code",
   "execution_count": 19,
   "metadata": {},
   "outputs": [
    {
     "name": "stdout",
     "output_type": "stream",
     "text": [
      "[[570   2]\n",
      " [ 53  42]]\n",
      "              precision    recall  f1-score   support\n",
      "\n",
      "       False       0.91      1.00      0.95       572\n",
      "        True       0.95      0.44      0.60        95\n",
      "\n",
      "    accuracy                           0.92       667\n",
      "   macro avg       0.93      0.72      0.78       667\n",
      "weighted avg       0.92      0.92      0.90       667\n",
      "\n"
     ]
    }
   ],
   "source": [
    "from sklearn.metrics import classification_report, confusion_matrix\n",
    "print(confusion_matrix(Y_test, predicted_test))\n",
    "print(classification_report(Y_test, predicted_test))"
   ]
  },
  {
   "cell_type": "code",
   "execution_count": 42,
   "metadata": {},
   "outputs": [],
   "source": [
    "y_probs = clf.predict_proba(X_test)"
   ]
  },
  {
   "cell_type": "code",
   "execution_count": 44,
   "metadata": {},
   "outputs": [],
   "source": [
    "# keeping probabilities for the positive outcome only\n",
    "y_probs = y_probs[:,1]"
   ]
  },
  {
   "cell_type": "code",
   "execution_count": 45,
   "metadata": {},
   "outputs": [
    {
     "data": {
      "text/plain": [
       "array([0.04118461, 0.11931509, 0.15785193, 0.08776756, 0.13712445,\n",
       "       0.02688234, 0.07931899, 0.25234993, 0.0261667 , 0.06422205,\n",
       "       0.01777205, 0.89668693, 0.31942944, 0.18332713, 0.5876524 ,\n",
       "       0.05135213, 0.03794722, 0.14401305, 0.07683962, 0.80561925,\n",
       "       0.10574249, 0.0159956 , 0.02437865, 0.07680692, 0.01759499,\n",
       "       0.03520862, 0.72098871, 0.02342005, 0.03109919, 0.0076248 ,\n",
       "       0.04053098, 0.06800184, 0.06147826, 0.98145892, 0.03187375,\n",
       "       0.03083565, 0.05382864, 0.02870671, 0.02883091, 0.14143449,\n",
       "       0.40525383, 0.02126757, 0.12603966, 0.10962366, 0.43635903,\n",
       "       0.09483848, 0.0352273 , 0.17218983, 0.85747968, 0.0431426 ,\n",
       "       0.04399161, 0.01620801, 0.01196187, 0.01678189, 0.28204581,\n",
       "       0.05176865, 0.01669571, 0.08540371, 0.12602192, 0.1740345 ,\n",
       "       0.06005102, 0.03155196, 0.92409462, 0.12665017, 0.07526098,\n",
       "       0.03825106, 0.08092915, 0.07263925, 0.05008886, 0.21379774,\n",
       "       0.0385498 , 0.02344094, 0.26001585, 0.08913287, 0.01742647,\n",
       "       0.01549074, 0.83239519, 0.02624819, 0.98016788, 0.01392551,\n",
       "       0.15882763, 0.06994724, 0.03169413, 0.04056178, 0.0432028 ,\n",
       "       0.06491947, 0.03926607, 0.27862465, 0.01286016, 0.0603457 ,\n",
       "       0.03375262, 0.12298392, 0.5       , 0.07978785, 0.02417442,\n",
       "       0.03030235, 0.26746712, 0.05150896, 0.04237456, 0.11810019,\n",
       "       0.02844044, 0.01115186, 0.07625814, 0.15718102, 0.1592499 ,\n",
       "       0.88442143, 0.25284077, 0.0136393 , 0.05668044, 0.82196933,\n",
       "       0.25510533, 0.02454188, 0.02211553, 0.01191342, 0.08049346,\n",
       "       0.10187073, 0.07474585, 0.0396153 , 0.0365838 , 0.00604917,\n",
       "       0.02632325, 0.05266151, 0.563902  , 0.013068  , 0.05418711,\n",
       "       0.03391082, 0.06675833, 0.29498017, 0.04426359, 0.04892148,\n",
       "       0.10000141, 0.0825146 , 0.03925307, 0.02793868, 0.09687868,\n",
       "       0.06569682, 0.03364951, 0.1010313 , 0.70479434, 0.02012434,\n",
       "       0.04057447, 0.08729986, 0.08682879, 0.03250899, 0.02935661,\n",
       "       0.23070582, 0.14276275, 0.0117989 , 0.04308316, 0.02300413,\n",
       "       0.12171075, 0.20375252, 0.04286526, 0.04567737, 0.06630183,\n",
       "       0.05555981, 0.05552312, 0.04717646, 0.04898429, 0.05103032,\n",
       "       0.97400278, 0.01182576, 0.0131782 , 0.02197819, 0.13519223,\n",
       "       0.08449545, 0.02037677, 0.08254769, 0.01825048, 0.01762158,\n",
       "       0.06166838, 0.1450304 , 0.0152941 , 0.03673528, 0.11255724,\n",
       "       0.0360647 , 0.01239257, 0.04661582, 0.03657883, 0.02135306,\n",
       "       0.06575691, 0.01552647, 0.01102355, 0.06461608, 0.02511158,\n",
       "       0.00987468, 0.08226008, 0.03485991, 0.0756942 , 0.03254517,\n",
       "       0.09259972, 0.03656517, 0.1234362 , 0.07405732, 0.04276445,\n",
       "       0.04686981, 0.40702872, 0.06547262, 0.0142358 , 0.04155033,\n",
       "       0.02917544, 0.09949504, 0.01512465, 0.07625233, 0.06348889,\n",
       "       0.02477936, 0.99999582, 0.69707971, 0.07690104, 0.0263981 ,\n",
       "       0.02717615, 0.01331666, 0.07360599, 0.06752409, 0.32791325,\n",
       "       0.02427987, 0.09742941, 0.09392949, 0.03927229, 0.07714531,\n",
       "       0.11853637, 0.23390106, 0.02135923, 0.08789084, 0.08578995,\n",
       "       0.09048997, 0.01877568, 0.03547299, 0.05744855, 0.80630388,\n",
       "       0.02294847, 0.99999813, 0.05281432, 0.0403215 , 0.27697919,\n",
       "       0.94109336, 0.07648436, 0.09362651, 0.0544474 , 0.0295126 ,\n",
       "       0.02141477, 0.00981596, 0.06740174, 0.01821654, 0.05045667,\n",
       "       0.1239767 , 0.05973636, 0.05309097, 0.09262514, 0.36020596,\n",
       "       0.98400391, 0.05382027, 0.48237   , 0.03571413, 0.03792587,\n",
       "       0.91473202, 0.06085682, 0.07409725, 0.17726578, 0.52575543,\n",
       "       0.16751444, 0.05125139, 0.07546068, 0.02916676, 0.21816948,\n",
       "       0.25125594, 0.28258229, 0.18130089, 0.57968518, 0.1073582 ,\n",
       "       0.04100646, 0.09898413, 0.01806237, 0.06845749, 0.05946726,\n",
       "       0.07606224, 0.11953867, 0.04199763, 0.08547745, 0.02113199,\n",
       "       0.04937052, 0.02524854, 0.0273179 , 0.01618329, 0.03053796,\n",
       "       0.05403065, 0.11686308, 0.21081464, 0.01647763, 0.14855146,\n",
       "       0.10349065, 0.99134775, 0.05571014, 0.02304487, 0.08770554,\n",
       "       0.55145541, 0.10332933, 0.5       , 0.84406945, 0.01278083,\n",
       "       0.0453239 , 0.06449275, 0.03460163, 0.13983726, 0.80285459,\n",
       "       0.07703275, 0.16347186, 0.05187397, 0.0497621 , 0.01675728,\n",
       "       0.01279842, 0.43608253, 0.01057225, 0.9816242 , 0.06086846,\n",
       "       0.35369253, 0.75760635, 0.08346831, 0.06658363, 0.0807202 ,\n",
       "       0.04073425, 0.07381801, 0.11309633, 0.42288656, 0.04073692,\n",
       "       0.11941063, 0.03388246, 0.06188134, 0.05455488, 0.07306734,\n",
       "       0.18628611, 0.03124868, 0.02248444, 0.05792455, 0.03680453,\n",
       "       0.08008692, 0.05262083, 0.05105446, 0.07057676, 0.05780487,\n",
       "       0.02878991, 0.07360356, 0.07586847, 0.10422399, 0.01364762,\n",
       "       0.00578634, 0.0147855 , 0.03386336, 0.04181187, 0.30387738,\n",
       "       0.06063751, 0.03906155, 0.04067884, 0.11375891, 0.02751991,\n",
       "       0.14572171, 0.06091107, 0.09206014, 0.02090062, 0.06181146,\n",
       "       0.44023548, 0.09638728, 0.0220111 , 0.22046513, 0.01191884,\n",
       "       0.12647624, 0.03353753, 0.04725647, 0.14677891, 0.09591341,\n",
       "       0.06897744, 0.6403188 , 0.05984989, 0.26959877, 0.03790291,\n",
       "       0.67245262, 0.00870162, 0.09447015, 0.03162994, 0.06109434,\n",
       "       0.1010532 , 0.29556624, 0.04053034, 0.034083  , 0.04233246,\n",
       "       0.06392841, 0.05836573, 0.99488167, 0.00880783, 0.03216261,\n",
       "       0.08309909, 0.01195539, 0.07750869, 0.09892917, 0.04340466,\n",
       "       0.60490632, 0.06546959, 0.08596542, 0.04848361, 0.07667393,\n",
       "       0.04590753, 0.33194715, 0.0457607 , 0.01688707, 0.99727206,\n",
       "       0.41775351, 0.08490112, 0.02692694, 0.13685033, 0.01490636,\n",
       "       0.02890638, 0.07670491, 0.0152654 , 0.03526095, 0.16889224,\n",
       "       0.01789168, 0.06106493, 0.06540601, 0.00963397, 0.46444048,\n",
       "       0.01123575, 0.00906942, 0.42148187, 0.08155186, 0.01059422,\n",
       "       0.02484108, 0.0182614 , 0.20960919, 0.06079824, 0.10279203,\n",
       "       0.99999351, 0.02333357, 0.08161933, 0.05984986, 0.02329256,\n",
       "       0.01972157, 0.05593275, 0.16344665, 0.05058854, 0.01198606,\n",
       "       0.01835677, 0.01854294, 0.21829693, 0.11967371, 0.02227271,\n",
       "       0.01620547, 0.78013637, 0.69065432, 0.04986977, 0.05293856,\n",
       "       0.03368082, 0.06775762, 0.02002264, 0.29328463, 0.28324092,\n",
       "       0.12973325, 0.09756788, 0.02067048, 0.01981085, 0.02457656,\n",
       "       0.02480296, 0.15540538, 0.11477014, 0.06243577, 0.97458604,\n",
       "       0.13973219, 0.0289047 , 0.01369251, 0.10368324, 0.11689606,\n",
       "       0.03720203, 0.02328195, 0.03290052, 0.03381586, 0.04025659,\n",
       "       0.09994851, 0.15160924, 0.15879461, 0.06080906, 0.07666722,\n",
       "       0.02987293, 0.05998655, 0.00939178, 0.02232718, 0.01643379,\n",
       "       0.47975722, 0.04972396, 0.13005488, 0.07418159, 0.00996426,\n",
       "       0.083568  , 0.01875168, 0.01298652, 0.09105114, 0.00962189,\n",
       "       0.12164569, 0.04755443, 0.02117134, 0.15281703, 0.83876834,\n",
       "       0.62335806, 0.02372878, 0.17128727, 0.09155563, 0.02662065,\n",
       "       0.98923703, 0.37099736, 0.01365137, 0.01692373, 0.03717329,\n",
       "       0.02008219, 0.99999902, 0.11564651, 0.0509356 , 0.0719893 ,\n",
       "       0.09237625, 0.03729829, 0.0714941 , 0.21098857, 0.03794058,\n",
       "       0.16755762, 0.26831978, 0.1417989 , 0.41805653, 0.97031259,\n",
       "       0.72448909, 0.06965641, 0.06802794, 0.04002873, 0.65335675,\n",
       "       0.34720909, 0.03067828, 0.03495534, 0.99442044, 0.01217426,\n",
       "       0.06029312, 0.03575192, 0.16105544, 0.1104316 , 0.11453715,\n",
       "       0.05066858, 0.07951502, 0.12473954, 0.0387641 , 0.02700994,\n",
       "       0.11818034, 0.16359778, 0.05819949, 0.22894223, 0.58920195,\n",
       "       0.03233759, 0.05543939, 0.38786267, 0.07076688, 0.73436457,\n",
       "       0.00916794, 0.05138798, 0.04170063, 0.05060513, 0.17806355,\n",
       "       0.13914085, 0.02291741, 0.01664723, 0.06184827, 0.06608057,\n",
       "       0.17154594, 0.99999384, 0.01178677, 0.03535875, 0.09766141,\n",
       "       0.05282828, 0.03202127, 0.05133905, 0.04663463, 0.07184949,\n",
       "       0.02905352, 0.99474612, 0.04964989, 0.04780222, 0.09125348,\n",
       "       0.04225265, 0.02772646, 0.08022137, 0.04258259, 0.96923258,\n",
       "       0.03280717, 0.13823439, 0.33297975, 0.17050156, 0.07851733,\n",
       "       0.24052856, 0.16015412, 0.00822241, 0.06610718, 0.09957456,\n",
       "       0.04137042, 0.26562347, 0.6375419 , 0.06983168, 0.11676253,\n",
       "       0.05745824, 0.22779176, 0.02982597, 0.0520657 , 0.03000888,\n",
       "       0.06432954, 0.12385614, 0.03012895, 0.09507932, 0.01102187,\n",
       "       0.04220434, 0.0906377 , 0.07922072, 0.05805208, 0.06962161,\n",
       "       0.0725718 , 0.01324698, 0.05970761, 0.04764752, 0.07118892,\n",
       "       0.82641874, 0.04371211, 0.02501293, 0.88873696, 0.06939056,\n",
       "       0.35584059, 0.05939711, 0.03847369, 0.09605051, 0.75080205,\n",
       "       0.03889756, 0.95181596, 0.0103448 , 0.03515053, 0.01415384,\n",
       "       0.11872685, 0.03833434, 0.2657548 , 0.10307115, 0.06034644,\n",
       "       0.3695579 , 0.02879504, 0.16665969, 0.0240518 , 0.572867  ,\n",
       "       0.03582375, 0.14203766, 0.05074547, 0.62991397, 0.04817627,\n",
       "       0.18265499, 0.08024364, 0.03956047, 0.06048606, 0.54765372,\n",
       "       0.17970354, 0.12172898, 0.10283769, 0.23153956, 0.25016925,\n",
       "       0.08096479, 0.02245071, 0.11387335, 0.01625643, 0.06684892,\n",
       "       0.01641653, 0.01254547])"
      ]
     },
     "execution_count": 45,
     "metadata": {},
     "output_type": "execute_result"
    }
   ],
   "source": [
    "y_probs"
   ]
  },
  {
   "cell_type": "code",
   "execution_count": 47,
   "metadata": {},
   "outputs": [],
   "source": [
    "auc = roc_auc_score(Y_test,y_probs)"
   ]
  },
  {
   "cell_type": "code",
   "execution_count": 50,
   "metadata": {},
   "outputs": [
    {
     "name": "stdout",
     "output_type": "stream",
     "text": [
      "Support vector: ROC AUC=0.874\n"
     ]
    }
   ],
   "source": [
    "print('Support vector: ROC AUC=%.3f' % (auc))"
   ]
  },
  {
   "cell_type": "code",
   "execution_count": 51,
   "metadata": {},
   "outputs": [],
   "source": [
    "sv_fpr,sv_tpr,_ = roc_curve(Y_test,y_probs)"
   ]
  },
  {
   "cell_type": "code",
   "execution_count": 55,
   "metadata": {
    "scrolled": true
   },
   "outputs": [
    {
     "data": {
      "image/png": "[encoded data removed]",
      "text/plain": [
       "<Figure size 432x288 with 1 Axes>"
      ]
     },
     "metadata": {
      "needs_background": "light"
     },
     "output_type": "display_data"
    }
   ],
   "source": [
    "plt.plot(sv_fpr,sv_tpr,marker=\".\", label = \"Support Vector\")\n",
    "# axis labels\n",
    "plt.xlabel('False Positive Rate')\n",
    "plt.ylabel('True Positive Rate')\n",
    "# show the legend\n",
    "plt.legend()\n",
    "# show the plot\n",
    "plt.show()"
   ]
  },
  {
   "cell_type": "code",
   "execution_count": 59,
   "metadata": {},
   "outputs": [],
   "source": [
    "sv_precision, sv_recall, _ = precision_recall_curve(Y_test,y_probs)\n"
   ]
  },
  {
   "cell_type": "code",
   "execution_count": 68,
   "metadata": {},
   "outputs": [
    {
     "name": "stdout",
     "output_type": "stream",
     "text": [
      "0.60431654676259\n"
     ]
    }
   ],
   "source": [
    "# calculate f1 score\n",
    "sv_f1 = f1_score(Y_test,predicted_test) \n",
    "print(sv_f1)"
   ]
  },
  {
   "cell_type": "code",
   "execution_count": 67,
   "metadata": {},
   "outputs": [
    {
     "data": {
      "image/png": "[encoded data removed]",
      "text/plain": [
       "<Figure size 432x288 with 1 Axes>"
      ]
     },
     "metadata": {
      "needs_background": "light"
     },
     "output_type": "display_data"
    }
   ],
   "source": [
    "plt.plot(sv_recall, sv_precision, marker='.', label='Support Vector')\n",
    "# axis labels\n",
    "plt.xlabel('Recall')\n",
    "plt.ylabel('Precision')\n",
    "# show the legend\n",
    "plt.legend()\n",
    "# show the plot\n",
    "plt.show()\n"
   ]
  },
  {
   "cell_type": "code",
   "execution_count": null,
   "metadata": {},
   "outputs": [],
   "source": []
  }
 ],
 "metadata": {
  "kernelspec": {
   "display_name": "Python 3",
   "language": "python",
   "name": "python3"
  },
  "language_info": {
   "codemirror_mode": {
    "name": "ipython",
    "version": 3
   },
   "file_extension": ".py",
   "mimetype": "text/x-python",
   "name": "python",
   "nbconvert_exporter": "python",
   "pygments_lexer": "ipython3",
   "version": "3.7.3"
  }
 },
 "nbformat": 4,
 "nbformat_minor": 2
}
